{
 "cells": [
  {
   "cell_type": "markdown",
   "id": "6df9743e",
   "metadata": {},
   "source": [
    "**Stage I**    "
   ]
  },
  {
   "cell_type": "code",
   "execution_count": 2,
   "id": "1506b050",
   "metadata": {},
   "outputs": [],
   "source": [
    "import pandas as pd"
   ]
  },
  {
   "cell_type": "code",
   "execution_count": 3,
   "id": "b33e56be",
   "metadata": {},
   "outputs": [],
   "source": [
    "import numpy as np"
   ]
  },
  {
   "cell_type": "code",
   "execution_count": 4,
   "id": "d9941d86",
   "metadata": {},
   "outputs": [],
   "source": [
    "import tensorflow as tf"
   ]
  },
  {
   "cell_type": "code",
   "execution_count": 5,
   "id": "16988680",
   "metadata": {},
   "outputs": [],
   "source": [
    "from tensorflow import keras"
   ]
  },
  {
   "cell_type": "markdown",
   "id": "ff7f7b53",
   "metadata": {},
   "source": [
    "image conversion"
   ]
  },
  {
   "cell_type": "code",
   "execution_count": 7,
   "id": "b5d596a9",
   "metadata": {},
   "outputs": [],
   "source": [
    "def saveImage(obj, location):\n",
    "    i=0\n",
    "    for batch in tqdm(datagen.flow(obj, batch_size=1,\n",
    "                          save_to_dir='/Users/noahvirani/Downloads/newData/'+(location), save_prefix='', save_format='jpeg')):\n",
    "        i += 1\n",
    "        if i > 1:\n",
    "            break "
   ]
  },
  {
   "cell_type": "code",
   "execution_count": 9,
   "id": "d1534fec",
   "metadata": {},
   "outputs": [],
   "source": [
    "df = pd.read_csv('https://astro.uchicago.edu/~andrey/classes/a211/data/training_solutions_rev1.csv')\n",
    "arr = [np.zeros((1,1))]*61578\n",
    "path = '/data/andrey/gzoo/images_training_rev1/'\n",
    "\n",
    "\n"
   ]
  },
  {
   "cell_type": "code",
   "execution_count": 18,
   "id": "f7e19a04",
   "metadata": {},
   "outputs": [
    {
     "name": "stderr",
     "output_type": "stream",
     "text": [
      "<ipython-input-18-42462cc50063>:8: SettingWithCopyWarning: \n",
      "A value is trying to be set on a copy of a slice from a DataFrame.\n",
      "Try using .loc[row_indexer,col_indexer] = value instead\n",
      "\n",
      "See the caveats in the documentation: https://pandas.pydata.org/pandas-docs/stable/user_guide/indexing.html#returning-a-view-versus-a-copy\n",
      "  testdf[\"GalaxyID\"] = testdf[\"GalaxyID\"].apply(append_ext)\n"
     ]
    }
   ],
   "source": [
    "def append_ext(fn):\n",
    "    return str(fn)+\".jpg\"\n",
    "\n",
    "ntest = 10000 # number of images in the testing subset\n",
    "tests = np.random.choice(range(len(df)), ntest, replace=False)\n",
    "traindf = df.drop(index=tests) # define training sample by dropping test images\n",
    "testdf = df.iloc[tests] # define test sample \n",
    "testdf[\"GalaxyID\"] = testdf[\"GalaxyID\"].apply(append_ext)\n",
    "traindf[\"GalaxyID\"] = traindf[\"GalaxyID\"].apply(append_ext)\n",
    "\n"
   ]
  },
  {
   "cell_type": "code",
   "execution_count": 21,
   "id": "c6f900b2",
   "metadata": {},
   "outputs": [
    {
     "name": "stdout",
     "output_type": "stream",
     "text": [
      "Found 5157 validated image filenames.\n",
      "Found 46421 validated image filenames.\n",
      "Found 10000 validated image filenames.\n"
     ]
    }
   ],
   "source": [
    "datagen=keras.preprocessing.image.ImageDataGenerator(rescale=1./255, validation_split=0.1)\n",
    "ntpix = 234\n",
    "cmode = 'grayscale'\n",
    "\n",
    "testgen=keras.preprocessing.image.ImageDataGenerator(rescale=1./255)\n",
    "\n",
    "bs = 32 # batch size for training \n",
    "valid_generator=datagen.flow_from_dataframe(traindf, directory=path, x_col='GalaxyID',\n",
    "                                            y_col=['Class1.1','Class1.2'], target_size=(ntpix,ntpix),\n",
    "                                            color_mode=cmode, class_mode='raw',\n",
    "                                            batch_size=bs, interpolation='bilinear',\n",
    "                                            subset='validation', shuffle=False)\n",
    "\n",
    "train_generator=datagen.flow_from_dataframe(traindf, directory=path, x_col='GalaxyID',\n",
    "                                            y_col=['Class1.1','Class1.2'], target_size=(ntpix,ntpix),\n",
    "                                            color_mode=cmode,class_mode='raw',\n",
    "                                            batch_size=bs, interpolation='bilinear',\n",
    "                                            subset='training', shuffle=False)\n",
    "\n",
    "test_generator=testgen.flow_from_dataframe(testdf, directory=path, x_col='GalaxyID',\n",
    "                                           y_col=['Class1.1','Class1.2'], target_size=(ntpix,ntpix),\n",
    "                                            color_mode=cmode, class_mode='raw',\n",
    "                                            batch_size=1, interpolation='bilinear', shuffle=False)"
   ]
  },
  {
   "cell_type": "markdown",
   "id": "35e06be8",
   "metadata": {},
   "source": [
    "Training:"
   ]
  },
  {
   "cell_type": "code",
   "execution_count": 22,
   "id": "06efde7b",
   "metadata": {},
   "outputs": [],
   "source": [
    "from keras.preprocessing.image import ImageDataGenerator, array_to_img, img_to_array, load_img\n",
    "\n"
   ]
  },
  {
   "cell_type": "markdown",
   "id": "fe5ceba6",
   "metadata": {},
   "source": [
    "Model"
   ]
  },
  {
   "cell_type": "code",
   "execution_count": 39,
   "id": "e4887771",
   "metadata": {},
   "outputs": [],
   "source": [
    "from keras.models import Sequential\n",
    "from keras.layers import Conv2D, MaxPooling2D\n",
    "from keras.layers import Activation, Dropout, Flatten, Dense\n",
    "\n",
    "model = Sequential()\n",
    "model.add(Conv2D(32, (3, 3), input_shape=(234, 234, 1)))\n",
    "model.add(MaxPooling2D(pool_size=(2, 2)))\n",
    "\n",
    "model.add(Conv2D(64, (3, 3)))\n",
    "model.add(MaxPooling2D(pool_size=(2, 2)))\n",
    "\n",
    "model.add(Conv2D(64, (3, 3)))\n",
    "model.add(MaxPooling2D(pool_size=(2, 2)))\n",
    "\n",
    "\n",
    "model.add(Flatten())  \n",
    "model.add(Dense(64))\n",
    "model.add(Activation('relu'))\n",
    "model.add(Dense(2))\n",
    "model.add(Activation('sigmoid'))\n",
    "model.compile(loss='binary_crossentropy',\n",
    "              optimizer='rmsprop',\n",
    "              metrics=['accuracy'])"
   ]
  },
  {
   "cell_type": "code",
   "execution_count": 40,
   "id": "0de2d00d",
   "metadata": {},
   "outputs": [
    {
     "name": "stdout",
     "output_type": "stream",
     "text": [
      "Epoch 1/10\n",
      "1451/1451 [==============================] - 424s 212ms/step - loss: 0.6733 - accuracy: 0.6721 - val_loss: 0.5992 - val_accuracy: 0.7898\n",
      "Epoch 2/10\n",
      "1451/1451 [==============================] - 151s 104ms/step - loss: 0.5902 - accuracy: 0.8002 - val_loss: 0.5812 - val_accuracy: 0.8137\n",
      "Epoch 3/10\n",
      "1451/1451 [==============================] - 151s 104ms/step - loss: 0.5713 - accuracy: 0.8250 - val_loss: 0.5878 - val_accuracy: 0.8001\n",
      "Epoch 4/10\n",
      "1451/1451 [==============================] - 151s 104ms/step - loss: 0.5550 - accuracy: 0.8522 - val_loss: 0.5823 - val_accuracy: 0.8218\n",
      "Epoch 5/10\n",
      "1451/1451 [==============================] - 151s 104ms/step - loss: 0.5448 - accuracy: 0.8640 - val_loss: 0.5845 - val_accuracy: 0.8115\n",
      "Epoch 6/10\n",
      "1451/1451 [==============================] - 150s 104ms/step - loss: 0.5310 - accuracy: 0.8875 - val_loss: 0.5932 - val_accuracy: 0.8084\n",
      "Epoch 7/10\n",
      "1451/1451 [==============================] - 150s 104ms/step - loss: 0.5256 - accuracy: 0.8983 - val_loss: 0.5946 - val_accuracy: 0.7993\n",
      "Epoch 8/10\n",
      "1451/1451 [==============================] - 150s 103ms/step - loss: 0.5163 - accuracy: 0.9159 - val_loss: 0.6022 - val_accuracy: 0.7908\n",
      "Epoch 9/10\n",
      "1451/1451 [==============================] - 150s 103ms/step - loss: 0.5139 - accuracy: 0.9221 - val_loss: 0.6043 - val_accuracy: 0.7875\n",
      "Epoch 10/10\n",
      "1451/1451 [==============================] - 150s 103ms/step - loss: 0.5091 - accuracy: 0.9237 - val_loss: 0.6031 - val_accuracy: 0.7873\n"
     ]
    },
    {
     "data": {
      "text/plain": [
       "<tensorflow.python.keras.callbacks.History at 0x7f9d9be1b7c0>"
      ]
     },
     "execution_count": 40,
     "metadata": {},
     "output_type": "execute_result"
    }
   ],
   "source": [
    " model.fit(train_generator,epochs=10,validation_data=valid_generator,\n",
    "                alidation_freq=1,verbose=1)"
   ]
  },
  {
   "cell_type": "code",
   "execution_count": 46,
   "id": "f15c8b21",
   "metadata": {},
   "outputs": [
    {
     "name": "stdout",
     "output_type": "stream",
     "text": [
      "10000/10000 [==============================] - 59s 6ms/step - loss: 0.6006 - accuracy: 0.7926\n"
     ]
    }
   ],
   "source": [
    "score = model.evaluate(test_generator, return_dict=True)"
   ]
  },
  {
   "cell_type": "code",
   "execution_count": 50,
   "id": "0c3f87e6",
   "metadata": {},
   "outputs": [
    {
     "name": "stdout",
     "output_type": "stream",
     "text": [
      "Test accuracy: 0.7925999760627747\n"
     ]
    }
   ],
   "source": [
    "print('Test accuracy:', score['accuracy'])"
   ]
  },
  {
   "cell_type": "code",
   "execution_count": null,
   "id": "8b49411f",
   "metadata": {},
   "outputs": [],
   "source": [
    "import pandas as pd\n",
    "\n",
    "df = pd.read_csv('https://astro.uchicago.edu/~andrey/classes/a211/data/training_solutions_rev1.csv')"
   ]
  },
  {
   "cell_type": "code",
   "execution_count": null,
   "id": "b1be77ed",
   "metadata": {},
   "outputs": [],
   "source": [
    "print(\"Column headings:\")\n",
    "print(df.columns)\n",
    "print(df.shape)"
   ]
  },
  {
   "cell_type": "code",
   "execution_count": null,
   "id": "9803978c",
   "metadata": {},
   "outputs": [],
   "source": [
    "# print the first 10 GalaxyIDs \n",
    "print(df['GalaxyID'][:10])"
   ]
  },
  {
   "cell_type": "code",
   "execution_count": null,
   "id": "d68b98f8",
   "metadata": {},
   "outputs": [],
   "source": [
    "# print the first 10 GalaxyIDs, pell, pdisk \n",
    "for i in range(10):\n",
    "    # Class 1.1 = probability that galaxy has \"elliptical\" morpgology\n",
    "    # Class 1.2 = probability that galaxy has \"disk\" morphology\n",
    "    # Class 1.3 = probability that object is a star, not used here, but\n",
    "    # in principle can be used to clean sample. \n",
    "    print(\"%d6   %.6f   %.6f\"%(df['GalaxyID'][i], df['Class1.1'][i], df['Class1.2'][i]))"
   ]
  },
  {
   "cell_type": "code",
   "execution_count": null,
   "id": "2125bcce",
   "metadata": {},
   "outputs": [],
   "source": [
    "from PIL import Image\n",
    "import numpy as np \n",
    "import matplotlib.pyplot as plt\n",
    "%matplotlib inline\n",
    "\n",
    "def zoo_img_collage(gal_id, nrow, ncol, path=None, savefig=None):\n",
    "    \"\"\"\n",
    "    display a collage of images of galaxies from the Galaxy Zoo \n",
    "    located in the directory path\n",
    "    \"\"\"\n",
    "    fig, axs = plt.subplots(nrow, ncol, figsize=(ncol, nrow))\n",
    "\n",
    "    # Check that PIL is installed for jpg support\n",
    "    if 'jpg' not in fig.canvas.get_supported_filetypes():\n",
    "        raise ValueError(\"PIL required to load SDSS jpeg images\")\n",
    "\n",
    "    for _gid, ax in zip(gal_id, axs.flatten()):\n",
    "        ax.xaxis.set_visible(False)\n",
    "        ax.yaxis.set_visible(False)\n",
    "        \n",
    "        outfile = path+str(_gid)+'.jpg'\n",
    "        I = Image.open(outfile)\n",
    "        ax.imshow(I, origin='lower')\n",
    "        ax.set_aspect('auto')\n",
    "        \n",
    "    fig.subplots_adjust(hspace=0, wspace=0)\n",
    "    if savefig != None:\n",
    "        plt.savefig(savefig, bbox_inches='tight')\n",
    "    plt.show()\n"
   ]
  },
  {
   "cell_type": "code",
   "execution_count": null,
   "id": "4a73ee78",
   "metadata": {},
   "outputs": [],
   "source": [
    "path = 'projects/neural_nets/galaxy_zoo/images_training_rev1/'\n",
    "\n",
    "ngal = 25\n",
    "nrow = 5; ncol = 5\n",
    "gal_id = df['GalaxyID'][:ngal]\n",
    "\n",
    "zoo_img_collage(gal_id, nrow, ncol, path=path, savefig=None)"
   ]
  },
  {
   "cell_type": "code",
   "execution_count": null,
   "id": "4266163b",
   "metadata": {},
   "outputs": [],
   "source": [
    "# displaying pixel values of an image \n",
    "# ID of the first galaxy\n",
    "gal_id = df['GalaxyID'][0]\n",
    "# path to the image\n",
    "img_file = path+str(gal_id)+'.jpg'\n",
    "# open image\n",
    "im = Image.open(img_file)\n",
    "# convert image to pixel values of R,G,B\n",
    "pixels = np.asarray(im)\n",
    "# this will show us that we deal with 424 x 424 pixel images with 3 color channels: R, G, B\n",
    "print(np.shape(pixels))"
   ]
  },
  {
   "cell_type": "markdown",
   "id": "a62bbbf6",
   "metadata": {},
   "source": [
    "Converting R, G, B image to grayscale. There are different ways to do such conversion, see <a href=\"https://www.johndcook.com/blog/2009/08/24/algorithms-convert-color-grayscale/\">here</a> for example. "
   ]
  },
  {
   "cell_type": "code",
   "execution_count": null,
   "id": "523dd752",
   "metadata": {},
   "outputs": [],
   "source": [
    "# using \"luminosity\" method\n",
    "lum = 0.21 *pixels[:,:,0] + 0.72 * pixels[:,:,1] + 0.07 * pixels[:,:,2]\n",
    "\n",
    "fig, ax = plt.subplots(1, 1, figsize=(5, 5))\n",
    "ax.xaxis.set_visible(False)\n",
    "ax.yaxis.set_visible(False)\n",
    "ax.imshow(lum, origin='lower', cmap='Greys')\n",
    "ax.set_aspect('auto')\n",
    "plt.show()"
   ]
  },
  {
   "cell_type": "markdown",
   "id": "194ee3a1",
   "metadata": {},
   "source": [
    "Using scikit-image to read images and display them. Check out <a href=\"https://github.com/scikit-image/skimage-tutorials\">scikit-image tutorials</a>."
   ]
  },
  {
   "cell_type": "code",
   "execution_count": null,
   "id": "d9d35363",
   "metadata": {},
   "outputs": [],
   "source": [
    "from skimage.io import imread_collection\n",
    "\n",
    "#your path \n",
    "col_dir = path+'100*.jpg'\n",
    "\n",
    "#creating a collection with the available images\n",
    "col = imread_collection(col_dir)"
   ]
  },
  {
   "cell_type": "code",
   "execution_count": null,
   "id": "d96adf3f",
   "metadata": {},
   "outputs": [],
   "source": [
    "print(np.shape(col))"
   ]
  },
  {
   "cell_type": "code",
   "execution_count": null,
   "id": "a555e03b",
   "metadata": {},
   "outputs": [],
   "source": [
    "from skimage.io import imshow_collection\n",
    "\n",
    "imshow_collection(col)"
   ]
  }
 ],
 "metadata": {
  "kernelspec": {
   "display_name": "Python 3",
   "language": "python",
   "name": "python3"
  },
  "language_info": {
   "codemirror_mode": {
    "name": "ipython",
    "version": 3
   },
   "file_extension": ".py",
   "mimetype": "text/x-python",
   "name": "python",
   "nbconvert_exporter": "python",
   "pygments_lexer": "ipython3",
   "version": "3.9.5"
  }
 },
 "nbformat": 4,
 "nbformat_minor": 5
}
